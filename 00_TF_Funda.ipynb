{
  "nbformat": 4,
  "nbformat_minor": 0,
  "metadata": {
    "colab": {
      "name": "00_TF_Funda.ipynb",
      "provenance": [],
      "collapsed_sections": [],
      "authorship_tag": "ABX9TyMqVhbobXiAb19JoQl4LFjV",
      "include_colab_link": true
    },
    "kernelspec": {
      "name": "python3",
      "display_name": "Python 3"
    },
    "language_info": {
      "name": "python"
    }
  },
  "cells": [
    {
      "cell_type": "markdown",
      "metadata": {
        "id": "view-in-github",
        "colab_type": "text"
      },
      "source": [
        "<a href=\"https://colab.research.google.com/github/abhishekatujjain/Tensorflow/blob/main/00_TF_Funda.ipynb\" target=\"_parent\"><img src=\"https://colab.research.google.com/assets/colab-badge.svg\" alt=\"Open In Colab\"/></a>"
      ]
    },
    {
      "cell_type": "code",
      "metadata": {
        "colab": {
          "base_uri": "https://localhost:8080/"
        },
        "id": "MCXPgVLYmf6r",
        "outputId": "0b6ff62a-a9d1-4f6d-de28-7f2762e608bf"
      },
      "source": [
        "import tensorflow as tf\n",
        "print(tf.__version__)"
      ],
      "execution_count": null,
      "outputs": [
        {
          "output_type": "stream",
          "text": [
            "2.4.1\n"
          ],
          "name": "stdout"
        }
      ]
    },
    {
      "cell_type": "code",
      "metadata": {
        "colab": {
          "base_uri": "https://localhost:8080/"
        },
        "id": "hdzH_Y2WlnaO",
        "outputId": "c08302ce-b75d-49c0-df05-3ac1a61e345f"
      },
      "source": [
        "#creating tensors\n",
        "scalar = tf.constant(7)\n",
        "scalar\n"
      ],
      "execution_count": null,
      "outputs": [
        {
          "output_type": "execute_result",
          "data": {
            "text/plain": [
              "<tf.Tensor: shape=(), dtype=int32, numpy=7>"
            ]
          },
          "metadata": {
            "tags": []
          },
          "execution_count": 2
        }
      ]
    },
    {
      "cell_type": "code",
      "metadata": {
        "colab": {
          "base_uri": "https://localhost:8080/"
        },
        "id": "LYfUTmdpnlwp",
        "outputId": "7a1de7bd-52d7-4e29-fcbc-7d13f7ec6189"
      },
      "source": [
        "# check the number of dimension fo tensor\n",
        "scalar.ndim"
      ],
      "execution_count": null,
      "outputs": [
        {
          "output_type": "execute_result",
          "data": {
            "text/plain": [
              "0"
            ]
          },
          "metadata": {
            "tags": []
          },
          "execution_count": 3
        }
      ]
    },
    {
      "cell_type": "code",
      "metadata": {
        "colab": {
          "base_uri": "https://localhost:8080/"
        },
        "id": "f8WO5F41n7Pj",
        "outputId": "3939ada7-336a-4683-c257-f2081b275cfe"
      },
      "source": [
        "#create a vector \n",
        "vector = tf.constant([10, 10])\n",
        "print(vector)\n",
        "print(vector.ndim)"
      ],
      "execution_count": null,
      "outputs": [
        {
          "output_type": "stream",
          "text": [
            "tf.Tensor([10 10], shape=(2,), dtype=int32)\n",
            "1\n",
            "tf.Tensor([10 10], shape=(2,), dtype=int32)\n",
            "1\n"
          ],
          "name": "stdout"
        }
      ]
    },
    {
      "cell_type": "code",
      "metadata": {
        "colab": {
          "base_uri": "https://localhost:8080/"
        },
        "id": "IzmvL9FeoHRQ",
        "outputId": "18008d19-0082-435f-f6ee-0a1f80f9190d"
      },
      "source": [
        "# create a matrix\n",
        "matrix = tf.constant([ [10, 7], [7,10]])\n",
        "matrix"
      ],
      "execution_count": null,
      "outputs": [
        {
          "output_type": "execute_result",
          "data": {
            "text/plain": [
              "<tf.Tensor: shape=(2, 2), dtype=int32, numpy=\n",
              "array([[10,  7],\n",
              "       [ 7, 10]], dtype=int32)>"
            ]
          },
          "metadata": {
            "tags": []
          },
          "execution_count": 6
        }
      ]
    },
    {
      "cell_type": "code",
      "metadata": {
        "colab": {
          "base_uri": "https://localhost:8080/"
        },
        "id": "Xpk_ZOo5olsU",
        "outputId": "4b445aa5-f8c4-48eb-8004-e32d4acb8400"
      },
      "source": [
        " matrix.ndim"
      ],
      "execution_count": null,
      "outputs": [
        {
          "output_type": "execute_result",
          "data": {
            "text/plain": [
              "2"
            ]
          },
          "metadata": {
            "tags": []
          },
          "execution_count": 7
        }
      ]
    },
    {
      "cell_type": "code",
      "metadata": {
        "colab": {
          "base_uri": "https://localhost:8080/"
        },
        "id": "2HbMubUIoxXJ",
        "outputId": "6b03f7a6-a648-4e5a-fb58-b9c1c9b48b66"
      },
      "source": [
        "another_matrix  = tf.constant([ [10., 7.], [3., 2.,], [8., 9.,]], dtype = tf.float16)\n",
        "another_matrix\n",
        "# we used smaller datatype instead of int32 of 32 bits to 16 bits of float, if we need more memory, change dtype"
      ],
      "execution_count": null,
      "outputs": [
        {
          "output_type": "execute_result",
          "data": {
            "text/plain": [
              "<tf.Tensor: shape=(3, 2), dtype=float16, numpy=\n",
              "array([[10.,  7.],\n",
              "       [ 3.,  2.],\n",
              "       [ 8.,  9.]], dtype=float16)>"
            ]
          },
          "metadata": {
            "tags": []
          },
          "execution_count": 8
        }
      ]
    },
    {
      "cell_type": "code",
      "metadata": {
        "colab": {
          "base_uri": "https://localhost:8080/"
        },
        "id": "XuaKdpwVp5GJ",
        "outputId": "d572f15e-c70a-4361-a1d2-e5abc6db2f7a"
      },
      "source": [
        "# create a tensor, another_matrix is of 2 dimension\n",
        "tensor = tf.constant([[ [1, 2, 3],\n",
        "                        [4,5,6]],\n",
        "                       [[7,8,9],\n",
        "                        [10, 11, 12]],\n",
        "                        [[13, 14, 15], [16, 17, 18]\n",
        "                       ]])\n",
        "print(tensor)"
      ],
      "execution_count": null,
      "outputs": [
        {
          "output_type": "stream",
          "text": [
            "tf.Tensor(\n",
            "[[[ 1  2  3]\n",
            "  [ 4  5  6]]\n",
            "\n",
            " [[ 7  8  9]\n",
            "  [10 11 12]]\n",
            "\n",
            " [[13 14 15]\n",
            "  [16 17 18]]], shape=(3, 2, 3), dtype=int32)\n"
          ],
          "name": "stdout"
        }
      ]
    },
    {
      "cell_type": "code",
      "metadata": {
        "colab": {
          "base_uri": "https://localhost:8080/"
        },
        "id": "58xZ7n67rEgm",
        "outputId": "e81add54-9962-4dee-af9c-7dbe36d49f4e"
      },
      "source": [
        "tensor.ndim"
      ],
      "execution_count": null,
      "outputs": [
        {
          "output_type": "execute_result",
          "data": {
            "text/plain": [
              "3"
            ]
          },
          "metadata": {
            "tags": []
          },
          "execution_count": 11
        }
      ]
    },
    {
      "cell_type": "code",
      "metadata": {
        "id": "SNfvJuO8rcF0",
        "colab": {
          "base_uri": "https://localhost:8080/"
        },
        "outputId": "213b4300-519a-4f90-9e52-609a70efd192"
      },
      "source": [
        "#creating tensorflow variable\n",
        "changeble = tf.Variable([[1, 2],\n",
        "                         [2, 1]])\n",
        "unchangeble = tf.constant([[1, 2],\n",
        "                         [2, 1]])\n",
        "changeble, unchangeble"
      ],
      "execution_count": null,
      "outputs": [
        {
          "output_type": "execute_result",
          "data": {
            "text/plain": [
              "(<tf.Variable 'Variable:0' shape=(2, 2) dtype=int32, numpy=\n",
              " array([[1, 2],\n",
              "        [2, 1]], dtype=int32)>, <tf.Tensor: shape=(2, 2), dtype=int32, numpy=\n",
              " array([[1, 2],\n",
              "        [2, 1]], dtype=int32)>)"
            ]
          },
          "metadata": {
            "tags": []
          },
          "execution_count": 6
        }
      ]
    },
    {
      "cell_type": "code",
      "metadata": {
        "colab": {
          "base_uri": "https://localhost:8080/"
        },
        "id": "QAXwuZeXW58b",
        "outputId": "42857c76-7ea6-46c0-f3d0-643c31c581ec"
      },
      "source": [
        "# to update changeble but can not unchangeble becoz it is constant\n",
        "changeble[0, 0].assign(10)\n",
        "changeble"
      ],
      "execution_count": null,
      "outputs": [
        {
          "output_type": "execute_result",
          "data": {
            "text/plain": [
              "<tf.Variable 'Variable:0' shape=(2, 2) dtype=int32, numpy=\n",
              "array([[10,  2],\n",
              "       [ 2,  1]], dtype=int32)>"
            ]
          },
          "metadata": {
            "tags": []
          },
          "execution_count": 9
        }
      ]
    },
    {
      "cell_type": "code",
      "metadata": {
        "colab": {
          "base_uri": "https://localhost:8080/"
        },
        "id": "J0p9Q6iadJC9",
        "outputId": "d4af1272-c2f8-4f14-97b8-a84649b91193"
      },
      "source": [
        "#creating random tensors\n",
        "# used for intializing weights\n",
        "random_1 = tf.random.Generator.from_seed(42)  # set seed for reproducebility\n",
        "random_1 = random_1.normal(shape =(3,2))  # normally distributed\n",
        "random_1"
      ],
      "execution_count": null,
      "outputs": [
        {
          "output_type": "execute_result",
          "data": {
            "text/plain": [
              "<tf.Tensor: shape=(3, 2), dtype=float32, numpy=\n",
              "array([[-0.7565803 , -0.06854702],\n",
              "       [ 0.07595026, -1.2573844 ],\n",
              "       [-0.23193763, -1.8107855 ]], dtype=float32)>"
            ]
          },
          "metadata": {
            "tags": []
          },
          "execution_count": 12
        }
      ]
    },
    {
      "cell_type": "code",
      "metadata": {
        "colab": {
          "base_uri": "https://localhost:8080/"
        },
        "id": "jYuW0fYcgB8M",
        "outputId": "d3f41c05-90d9-44d4-9597-8aea306a5328"
      },
      "source": [
        "random_2 = tf.random.Generator.from_seed(42)\n",
        "random_2 = random_2.uniform(shape = (3,2))\n",
        "random_2"
      ],
      "execution_count": null,
      "outputs": [
        {
          "output_type": "execute_result",
          "data": {
            "text/plain": [
              "<tf.Tensor: shape=(3, 2), dtype=float32, numpy=\n",
              "array([[0.7493447 , 0.73561966],\n",
              "       [0.45230794, 0.49039817],\n",
              "       [0.1889317 , 0.52027524]], dtype=float32)>"
            ]
          },
          "metadata": {
            "tags": []
          },
          "execution_count": 14
        }
      ]
    },
    {
      "cell_type": "code",
      "metadata": {
        "colab": {
          "base_uri": "https://localhost:8080/"
        },
        "id": "qpxeWG1Ogd14",
        "outputId": "fcbc6ccf-8bb1-4937-a5c9-ca9325798ba5"
      },
      "source": [
        "# shuffling the tensors. Used where order doesn't matters\n",
        "not_shuffled = tf.constant([ [1,2],\n",
        "                            [3, 4],\n",
        "                            [5,6] ])\n",
        "tf.random.shuffle(not_shuffled)"
      ],
      "execution_count": null,
      "outputs": [
        {
          "output_type": "execute_result",
          "data": {
            "text/plain": [
              "<tf.Tensor: shape=(3, 2), dtype=int32, numpy=\n",
              "array([[1, 2],\n",
              "       [5, 6],\n",
              "       [3, 4]], dtype=int32)>"
            ]
          },
          "metadata": {
            "tags": []
          },
          "execution_count": 15
        }
      ]
    },
    {
      "cell_type": "code",
      "metadata": {
        "colab": {
          "base_uri": "https://localhost:8080/"
        },
        "id": "0f9r8P9lkmRA",
        "outputId": "6e14c5e1-56bd-43a3-8f5c-15a953c2e14a"
      },
      "source": [
        "tf.random.shuffle(not_shuffled, seed = 12)  # operation level seed"
      ],
      "execution_count": null,
      "outputs": [
        {
          "output_type": "execute_result",
          "data": {
            "text/plain": [
              "<tf.Tensor: shape=(3, 2), dtype=int32, numpy=\n",
              "array([[5, 6],\n",
              "       [1, 2],\n",
              "       [3, 4]], dtype=int32)>"
            ]
          },
          "metadata": {
            "tags": []
          },
          "execution_count": 16
        }
      ]
    },
    {
      "cell_type": "code",
      "metadata": {
        "colab": {
          "base_uri": "https://localhost:8080/"
        },
        "id": "jEWvmdstm4QX",
        "outputId": "0d7f3df8-6f1d-4f3f-9ed5-49f95e9e3194"
      },
      "source": [
        "tf.random.shuffle(not_shuffled, seed = 12)"
      ],
      "execution_count": null,
      "outputs": [
        {
          "output_type": "execute_result",
          "data": {
            "text/plain": [
              "<tf.Tensor: shape=(3, 2), dtype=int32, numpy=\n",
              "array([[3, 4],\n",
              "       [5, 6],\n",
              "       [1, 2]], dtype=int32)>"
            ]
          },
          "metadata": {
            "tags": []
          },
          "execution_count": 17
        }
      ]
    },
    {
      "cell_type": "code",
      "metadata": {
        "colab": {
          "base_uri": "https://localhost:8080/"
        },
        "id": "SQXF2iG4m6ar",
        "outputId": "35affa19-0345-4e18-9ee7-78d3534c6c72"
      },
      "source": [
        "# applying global level seed\n",
        "tf.random.set_seed(12)\n",
        "tf.random.shuffle(not_shuffled)"
      ],
      "execution_count": null,
      "outputs": [
        {
          "output_type": "execute_result",
          "data": {
            "text/plain": [
              "<tf.Tensor: shape=(3, 2), dtype=int32, numpy=\n",
              "array([[3, 4],\n",
              "       [1, 2],\n",
              "       [5, 6]], dtype=int32)>"
            ]
          },
          "metadata": {
            "tags": []
          },
          "execution_count": 30
        }
      ]
    },
    {
      "cell_type": "code",
      "metadata": {
        "colab": {
          "base_uri": "https://localhost:8080/"
        },
        "id": "yAyPK592oRCa",
        "outputId": "a79b8e27-dbe8-49a5-af93-0b6edb6da19f"
      },
      "source": [
        "tf.random.set_seed(12)\n",
        "tf.random.shuffle(not_shuffled)  # shuffled but result not changed for global one"
      ],
      "execution_count": null,
      "outputs": [
        {
          "output_type": "execute_result",
          "data": {
            "text/plain": [
              "<tf.Tensor: shape=(3, 2), dtype=int32, numpy=\n",
              "array([[3, 4],\n",
              "       [1, 2],\n",
              "       [5, 6]], dtype=int32)>"
            ]
          },
          "metadata": {
            "tags": []
          },
          "execution_count": 32
        }
      ]
    },
    {
      "cell_type": "code",
      "metadata": {
        "colab": {
          "base_uri": "https://localhost:8080/"
        },
        "id": "vT7rmSQanOkv",
        "outputId": "46f86479-2dbc-4111-e881-f958444807b5"
      },
      "source": [
        "tf.random.set_seed(12)\n",
        "tf.random.shuffle(not_shuffled, seed = 12)"
      ],
      "execution_count": null,
      "outputs": [
        {
          "output_type": "execute_result",
          "data": {
            "text/plain": [
              "<tf.Tensor: shape=(3, 2), dtype=int32, numpy=\n",
              "array([[5, 6],\n",
              "       [3, 4],\n",
              "       [1, 2]], dtype=int32)>"
            ]
          },
          "metadata": {
            "tags": []
          },
          "execution_count": 31
        }
      ]
    },
    {
      "cell_type": "code",
      "metadata": {
        "colab": {
          "base_uri": "https://localhost:8080/"
        },
        "id": "5oPlLIVwno8I",
        "outputId": "2db04b2b-6ff2-4cef-99b9-d61c5e0fbe27"
      },
      "source": [
        "tf.random.set_seed(12)\n",
        "tf.random.shuffle(not_shuffled, seed = 12)  # order not changed"
      ],
      "execution_count": null,
      "outputs": [
        {
          "output_type": "execute_result",
          "data": {
            "text/plain": [
              "<tf.Tensor: shape=(3, 2), dtype=int32, numpy=\n",
              "array([[5, 6],\n",
              "       [3, 4],\n",
              "       [1, 2]], dtype=int32)>"
            ]
          },
          "metadata": {
            "tags": []
          },
          "execution_count": 33
        }
      ]
    },
    {
      "cell_type": "code",
      "metadata": {
        "colab": {
          "base_uri": "https://localhost:8080/"
        },
        "id": "lExSR-PIoYSH",
        "outputId": "c1bf335e-fcc0-4576-991b-1bcb1165a6d3"
      },
      "source": [
        "# another way to create tensors\n",
        "print(tf.ones([3,3]))\n",
        "print(tf.zeros(shape = (3,3)))"
      ],
      "execution_count": null,
      "outputs": [
        {
          "output_type": "stream",
          "text": [
            "tf.Tensor(\n",
            "[[1. 1. 1.]\n",
            " [1. 1. 1.]\n",
            " [1. 1. 1.]], shape=(3, 3), dtype=float32)\n",
            "tf.Tensor(\n",
            "[[0. 0. 0.]\n",
            " [0. 0. 0.]\n",
            " [0. 0. 0.]], shape=(3, 3), dtype=float32)\n"
          ],
          "name": "stdout"
        }
      ]
    },
    {
      "cell_type": "code",
      "metadata": {
        "colab": {
          "base_uri": "https://localhost:8080/"
        },
        "id": "Jzf16HanpJan",
        "outputId": "6096bba6-7d78-42bb-8cda-8c98ad1901ff"
      },
      "source": [
        "# turn NumPy arrays into tensors\n",
        "# Usually, NumPy arrays and TensorFlow tensors are same, except, tensors runs faster on GPU\n",
        "import numpy as np\n",
        "numpy_A = np.arange(1, 25, dtype = np.int32)\n",
        "numpy_A\n"
      ],
      "execution_count": null,
      "outputs": [
        {
          "output_type": "execute_result",
          "data": {
            "text/plain": [
              "array([ 1,  2,  3,  4,  5,  6,  7,  8,  9, 10, 11, 12, 13, 14, 15, 16, 17,\n",
              "       18, 19, 20, 21, 22, 23, 24], dtype=int32)"
            ]
          },
          "metadata": {
            "tags": []
          },
          "execution_count": 39
        }
      ]
    },
    {
      "cell_type": "code",
      "metadata": {
        "colab": {
          "base_uri": "https://localhost:8080/"
        },
        "id": "H3WHWm86qr2N",
        "outputId": "6c8e0517-a436-49d5-9b56-e19c1bd224bf"
      },
      "source": [
        "A = tf.constant(numpy_A)\n",
        "A"
      ],
      "execution_count": null,
      "outputs": [
        {
          "output_type": "execute_result",
          "data": {
            "text/plain": [
              "<tf.Tensor: shape=(24,), dtype=int32, numpy=\n",
              "array([ 1,  2,  3,  4,  5,  6,  7,  8,  9, 10, 11, 12, 13, 14, 15, 16, 17,\n",
              "       18, 19, 20, 21, 22, 23, 24], dtype=int32)>"
            ]
          },
          "metadata": {
            "tags": []
          },
          "execution_count": 41
        }
      ]
    },
    {
      "cell_type": "code",
      "metadata": {
        "colab": {
          "base_uri": "https://localhost:8080/"
        },
        "id": "N7EEKr5nq3wD",
        "outputId": "1b8fec14-00f0-4123-958b-ddaf92aeb244"
      },
      "source": [
        "B = tf.constant(numpy_A, shape = (2,3,4))\n",
        "B"
      ],
      "execution_count": null,
      "outputs": [
        {
          "output_type": "execute_result",
          "data": {
            "text/plain": [
              "<tf.Tensor: shape=(2, 3, 4), dtype=int32, numpy=\n",
              "array([[[ 1,  2,  3,  4],\n",
              "        [ 5,  6,  7,  8],\n",
              "        [ 9, 10, 11, 12]],\n",
              "\n",
              "       [[13, 14, 15, 16],\n",
              "        [17, 18, 19, 20],\n",
              "        [21, 22, 23, 24]]], dtype=int32)>"
            ]
          },
          "metadata": {
            "tags": []
          },
          "execution_count": 42
        }
      ]
    },
    {
      "cell_type": "code",
      "metadata": {
        "id": "hp5cmJaTrEAi",
        "colab": {
          "base_uri": "https://localhost:8080/"
        },
        "outputId": "864634c5-c956-4067-87ad-21407af8768b"
      },
      "source": [
        "#getting information from tensors\n",
        "rank_4_tensor = tf.zeros(shape= [2,3,4,5])\n",
        "rank_4_tensor"
      ],
      "execution_count": null,
      "outputs": [
        {
          "output_type": "execute_result",
          "data": {
            "text/plain": [
              "<tf.Tensor: shape=(2, 3, 4, 5), dtype=float32, numpy=\n",
              "array([[[[0., 0., 0., 0., 0.],\n",
              "         [0., 0., 0., 0., 0.],\n",
              "         [0., 0., 0., 0., 0.],\n",
              "         [0., 0., 0., 0., 0.]],\n",
              "\n",
              "        [[0., 0., 0., 0., 0.],\n",
              "         [0., 0., 0., 0., 0.],\n",
              "         [0., 0., 0., 0., 0.],\n",
              "         [0., 0., 0., 0., 0.]],\n",
              "\n",
              "        [[0., 0., 0., 0., 0.],\n",
              "         [0., 0., 0., 0., 0.],\n",
              "         [0., 0., 0., 0., 0.],\n",
              "         [0., 0., 0., 0., 0.]]],\n",
              "\n",
              "\n",
              "       [[[0., 0., 0., 0., 0.],\n",
              "         [0., 0., 0., 0., 0.],\n",
              "         [0., 0., 0., 0., 0.],\n",
              "         [0., 0., 0., 0., 0.]],\n",
              "\n",
              "        [[0., 0., 0., 0., 0.],\n",
              "         [0., 0., 0., 0., 0.],\n",
              "         [0., 0., 0., 0., 0.],\n",
              "         [0., 0., 0., 0., 0.]],\n",
              "\n",
              "        [[0., 0., 0., 0., 0.],\n",
              "         [0., 0., 0., 0., 0.],\n",
              "         [0., 0., 0., 0., 0.],\n",
              "         [0., 0., 0., 0., 0.]]]], dtype=float32)>"
            ]
          },
          "metadata": {
            "tags": []
          },
          "execution_count": 3
        }
      ]
    },
    {
      "cell_type": "code",
      "metadata": {
        "colab": {
          "base_uri": "https://localhost:8080/"
        },
        "id": "8AyFhHZwMpHu",
        "outputId": "492c8615-54f7-4c41-d479-fd2646f56585"
      },
      "source": [
        "rank_4_tensor[0]"
      ],
      "execution_count": null,
      "outputs": [
        {
          "output_type": "execute_result",
          "data": {
            "text/plain": [
              "<tf.Tensor: shape=(3, 4, 5), dtype=float32, numpy=\n",
              "array([[[0., 0., 0., 0., 0.],\n",
              "        [0., 0., 0., 0., 0.],\n",
              "        [0., 0., 0., 0., 0.],\n",
              "        [0., 0., 0., 0., 0.]],\n",
              "\n",
              "       [[0., 0., 0., 0., 0.],\n",
              "        [0., 0., 0., 0., 0.],\n",
              "        [0., 0., 0., 0., 0.],\n",
              "        [0., 0., 0., 0., 0.]],\n",
              "\n",
              "       [[0., 0., 0., 0., 0.],\n",
              "        [0., 0., 0., 0., 0.],\n",
              "        [0., 0., 0., 0., 0.],\n",
              "        [0., 0., 0., 0., 0.]]], dtype=float32)>"
            ]
          },
          "metadata": {
            "tags": []
          },
          "execution_count": 4
        }
      ]
    },
    {
      "cell_type": "code",
      "metadata": {
        "colab": {
          "base_uri": "https://localhost:8080/"
        },
        "id": "gbeCvJ_IM_3g",
        "outputId": "b55b2a97-4650-4e13-f907-f42298a7d7e8"
      },
      "source": [
        "rank_4_tensor.shape, rank_4_tensor.ndim, tf.size(rank_4_tensor)"
      ],
      "execution_count": null,
      "outputs": [
        {
          "output_type": "execute_result",
          "data": {
            "text/plain": [
              "(TensorShape([2, 3, 4, 5]), 4, <tf.Tensor: shape=(), dtype=int32, numpy=120>)"
            ]
          },
          "metadata": {
            "tags": []
          },
          "execution_count": 5
        }
      ]
    },
    {
      "cell_type": "code",
      "metadata": {
        "colab": {
          "base_uri": "https://localhost:8080/"
        },
        "id": "Tk8qBJo7NPTJ",
        "outputId": "99b2a722-955a-4d85-f7d5-dbb70146688f"
      },
      "source": [
        "#get various attributes of tensor\n",
        "print(\"Data type:\", rank_4_tensor.dtype)\n",
        "print(\"No of dimensions (rank)\", rank_4_tensor.ndim)\n",
        "print(\"Shape of Tensor\", rank_4_tensor.shape)\n",
        "print(\"Elements along 0 axis\", rank_4_tensor.shape[0])\n",
        "print('Elements along last axis', rank_4_tensor.shape[-1])\n",
        "print('Total no of elemenst in tensor', tf.size(rank_4_tensor))\n",
        "print('Total no of elemenst in tensor', tf.size(rank_4_tensor).numpy())"
      ],
      "execution_count": null,
      "outputs": [
        {
          "output_type": "stream",
          "text": [
            "Data type: <dtype: 'float32'>\n",
            "No of dimensions (rank) 4\n",
            "Shape of Tensor (2, 3, 4, 5)\n",
            "Elements along 0 axis 2\n",
            "Elements along last axis 5\n",
            "Total no of elemenst in tensor tf.Tensor(120, shape=(), dtype=int32)\n",
            "Total no of elemenst in tensor 120\n"
          ],
          "name": "stdout"
        }
      ]
    },
    {
      "cell_type": "markdown",
      "metadata": {
        "id": "AJoQ-NLaPSWY"
      },
      "source": [
        "Indexing the tensors"
      ]
    },
    {
      "cell_type": "code",
      "metadata": {
        "colab": {
          "base_uri": "https://localhost:8080/"
        },
        "id": "oiX-S9MaPQbz",
        "outputId": "f81c1efa-c311-44de-ef33-01b8ffd2b17a"
      },
      "source": [
        "# get first two elements of each dimension\n",
        "rank_4_tensor[:2, :2, :2, :2]"
      ],
      "execution_count": null,
      "outputs": [
        {
          "output_type": "execute_result",
          "data": {
            "text/plain": [
              "<tf.Tensor: shape=(2, 2, 2, 2), dtype=float32, numpy=\n",
              "array([[[[0., 0.],\n",
              "         [0., 0.]],\n",
              "\n",
              "        [[0., 0.],\n",
              "         [0., 0.]]],\n",
              "\n",
              "\n",
              "       [[[0., 0.],\n",
              "         [0., 0.]],\n",
              "\n",
              "        [[0., 0.],\n",
              "         [0., 0.]]]], dtype=float32)>"
            ]
          },
          "metadata": {
            "tags": []
          },
          "execution_count": 9
        }
      ]
    },
    {
      "cell_type": "code",
      "metadata": {
        "colab": {
          "base_uri": "https://localhost:8080/"
        },
        "id": "w036R_oeOmMX",
        "outputId": "2e5cfb8d-f7de-4f63-8a51-35bc746c0009"
      },
      "source": [
        "# Get the first element from each dimension from each index except for the final one\n",
        "rank_4_tensor[:1, :1, :1, :]\n"
      ],
      "execution_count": null,
      "outputs": [
        {
          "output_type": "execute_result",
          "data": {
            "text/plain": [
              "<tf.Tensor: shape=(1, 1, 1, 5), dtype=float32, numpy=array([[[[0., 0., 0., 0., 0.]]]], dtype=float32)>"
            ]
          },
          "metadata": {
            "tags": []
          },
          "execution_count": 10
        }
      ]
    },
    {
      "cell_type": "code",
      "metadata": {
        "colab": {
          "base_uri": "https://localhost:8080/"
        },
        "id": "2GXScQbQQNbg",
        "outputId": "5100ae65-4972-460a-dcca-32db2cd9d7dd"
      },
      "source": [
        "# Get the first element from each dimension from each index except for the second last one\n",
        "rank_4_tensor[:1, :1, :, :1]\n"
      ],
      "execution_count": null,
      "outputs": [
        {
          "output_type": "execute_result",
          "data": {
            "text/plain": [
              "<tf.Tensor: shape=(1, 1, 4, 1), dtype=float32, numpy=\n",
              "array([[[[0.],\n",
              "         [0.],\n",
              "         [0.],\n",
              "         [0.]]]], dtype=float32)>"
            ]
          },
          "metadata": {
            "tags": []
          },
          "execution_count": 11
        }
      ]
    },
    {
      "cell_type": "code",
      "metadata": {
        "id": "jPA30-prQdp3",
        "colab": {
          "base_uri": "https://localhost:8080/"
        },
        "outputId": "b86dbd66-2ac8-45be-b25a-2e221e5eebc6"
      },
      "source": [
        "import numpy as np\n",
        "import tensorflow as tf\n",
        "npary = np.arange(1, 121, dtype = np.int32)\n",
        "npary"
      ],
      "execution_count": null,
      "outputs": [
        {
          "output_type": "execute_result",
          "data": {
            "text/plain": [
              "array([  1,   2,   3,   4,   5,   6,   7,   8,   9,  10,  11,  12,  13,\n",
              "        14,  15,  16,  17,  18,  19,  20,  21,  22,  23,  24,  25,  26,\n",
              "        27,  28,  29,  30,  31,  32,  33,  34,  35,  36,  37,  38,  39,\n",
              "        40,  41,  42,  43,  44,  45,  46,  47,  48,  49,  50,  51,  52,\n",
              "        53,  54,  55,  56,  57,  58,  59,  60,  61,  62,  63,  64,  65,\n",
              "        66,  67,  68,  69,  70,  71,  72,  73,  74,  75,  76,  77,  78,\n",
              "        79,  80,  81,  82,  83,  84,  85,  86,  87,  88,  89,  90,  91,\n",
              "        92,  93,  94,  95,  96,  97,  98,  99, 100, 101, 102, 103, 104,\n",
              "       105, 106, 107, 108, 109, 110, 111, 112, 113, 114, 115, 116, 117,\n",
              "       118, 119, 120], dtype=int32)"
            ]
          },
          "metadata": {
            "tags": []
          },
          "execution_count": 1
        }
      ]
    },
    {
      "cell_type": "code",
      "metadata": {
        "colab": {
          "base_uri": "https://localhost:8080/"
        },
        "id": "jJB5xj9K-evx",
        "outputId": "29551726-699f-42fe-b387-4acf1bb4ab3d"
      },
      "source": [
        "rnk4tensor = tf.constant(npary, shape = (2,3,4, 5))\n",
        "rnk4tensor"
      ],
      "execution_count": null,
      "outputs": [
        {
          "output_type": "execute_result",
          "data": {
            "text/plain": [
              "<tf.Tensor: shape=(2, 3, 4, 5), dtype=int32, numpy=\n",
              "array([[[[  1,   2,   3,   4,   5],\n",
              "         [  6,   7,   8,   9,  10],\n",
              "         [ 11,  12,  13,  14,  15],\n",
              "         [ 16,  17,  18,  19,  20]],\n",
              "\n",
              "        [[ 21,  22,  23,  24,  25],\n",
              "         [ 26,  27,  28,  29,  30],\n",
              "         [ 31,  32,  33,  34,  35],\n",
              "         [ 36,  37,  38,  39,  40]],\n",
              "\n",
              "        [[ 41,  42,  43,  44,  45],\n",
              "         [ 46,  47,  48,  49,  50],\n",
              "         [ 51,  52,  53,  54,  55],\n",
              "         [ 56,  57,  58,  59,  60]]],\n",
              "\n",
              "\n",
              "       [[[ 61,  62,  63,  64,  65],\n",
              "         [ 66,  67,  68,  69,  70],\n",
              "         [ 71,  72,  73,  74,  75],\n",
              "         [ 76,  77,  78,  79,  80]],\n",
              "\n",
              "        [[ 81,  82,  83,  84,  85],\n",
              "         [ 86,  87,  88,  89,  90],\n",
              "         [ 91,  92,  93,  94,  95],\n",
              "         [ 96,  97,  98,  99, 100]],\n",
              "\n",
              "        [[101, 102, 103, 104, 105],\n",
              "         [106, 107, 108, 109, 110],\n",
              "         [111, 112, 113, 114, 115],\n",
              "         [116, 117, 118, 119, 120]]]], dtype=int32)>"
            ]
          },
          "metadata": {
            "tags": []
          },
          "execution_count": 2
        }
      ]
    },
    {
      "cell_type": "code",
      "metadata": {
        "colab": {
          "base_uri": "https://localhost:8080/"
        },
        "id": "hkxmgyzi-ug2",
        "outputId": "b4236299-2d46-456d-ba03-da0272e86381"
      },
      "source": [
        "# Get the first element from each dimension from each index except for the final one\n",
        "rnk4tensor[:1, :1, :1, :]"
      ],
      "execution_count": null,
      "outputs": [
        {
          "output_type": "execute_result",
          "data": {
            "text/plain": [
              "<tf.Tensor: shape=(1, 1, 1, 5), dtype=int32, numpy=array([[[[1, 2, 3, 4, 5]]]], dtype=int32)>"
            ]
          },
          "metadata": {
            "tags": []
          },
          "execution_count": 3
        }
      ]
    },
    {
      "cell_type": "code",
      "metadata": {
        "colab": {
          "base_uri": "https://localhost:8080/"
        },
        "id": "sNVjVML3-0Qv",
        "outputId": "096a8aac-758d-49a2-d905-083817c93e47"
      },
      "source": [
        "# Get the first element from each dimension from each index except for the second last one\n",
        "rnk4tensor[:1, :1, :, :1]"
      ],
      "execution_count": null,
      "outputs": [
        {
          "output_type": "execute_result",
          "data": {
            "text/plain": [
              "<tf.Tensor: shape=(1, 1, 4, 1), dtype=int32, numpy=\n",
              "array([[[[ 1],\n",
              "         [ 6],\n",
              "         [11],\n",
              "         [16]]]], dtype=int32)>"
            ]
          },
          "metadata": {
            "tags": []
          },
          "execution_count": 4
        }
      ]
    },
    {
      "cell_type": "code",
      "metadata": {
        "colab": {
          "base_uri": "https://localhost:8080/"
        },
        "id": "pPg8kMvT_CKI",
        "outputId": "37c0199e-b149-4dbc-fa47-6c0c55677990"
      },
      "source": [
        "rnk4tensor[:2, :1, :1, :]"
      ],
      "execution_count": null,
      "outputs": [
        {
          "output_type": "execute_result",
          "data": {
            "text/plain": [
              "<tf.Tensor: shape=(2, 1, 1, 5), dtype=int32, numpy=\n",
              "array([[[[ 1,  2,  3,  4,  5]]],\n",
              "\n",
              "\n",
              "       [[[61, 62, 63, 64, 65]]]], dtype=int32)>"
            ]
          },
          "metadata": {
            "tags": []
          },
          "execution_count": 5
        }
      ]
    },
    {
      "cell_type": "code",
      "metadata": {
        "colab": {
          "base_uri": "https://localhost:8080/"
        },
        "id": "jLdBLvma_OJh",
        "outputId": "0bb3d00c-fbf1-4f70-8b54-e7f2ac2d2a7d"
      },
      "source": [
        "rnk4tensor[:, :1, :1, :1]"
      ],
      "execution_count": null,
      "outputs": [
        {
          "output_type": "execute_result",
          "data": {
            "text/plain": [
              "<tf.Tensor: shape=(2, 1, 1, 1), dtype=int32, numpy=\n",
              "array([[[[ 1]]],\n",
              "\n",
              "\n",
              "       [[[61]]]], dtype=int32)>"
            ]
          },
          "metadata": {
            "tags": []
          },
          "execution_count": 6
        }
      ]
    },
    {
      "cell_type": "code",
      "metadata": {
        "colab": {
          "base_uri": "https://localhost:8080/"
        },
        "id": "Jpm3bPaBAZuW",
        "outputId": "e28af524-c081-4c1c-8a75-d51c8fef7928"
      },
      "source": [
        "rnk4tensor[:, :3, :1, :1]"
      ],
      "execution_count": null,
      "outputs": [
        {
          "output_type": "execute_result",
          "data": {
            "text/plain": [
              "<tf.Tensor: shape=(2, 3, 1, 1), dtype=int32, numpy=\n",
              "array([[[[  1]],\n",
              "\n",
              "        [[ 21]],\n",
              "\n",
              "        [[ 41]]],\n",
              "\n",
              "\n",
              "       [[[ 61]],\n",
              "\n",
              "        [[ 81]],\n",
              "\n",
              "        [[101]]]], dtype=int32)>"
            ]
          },
          "metadata": {
            "tags": []
          },
          "execution_count": 7
        }
      ]
    },
    {
      "cell_type": "code",
      "metadata": {
        "colab": {
          "base_uri": "https://localhost:8080/"
        },
        "id": "9iCqj3j1AdeJ",
        "outputId": "832582a6-299e-4e1f-8ba2-62aa295ec824"
      },
      "source": [
        "#adding extra diemsion in rnk4tensor\n",
        "\n",
        "#lets create rank 2 tensor\n",
        "rank2tensor = tf.constant([[1,2],\n",
        "                           [3,4]])\n",
        "rank2tensor"
      ],
      "execution_count": null,
      "outputs": [
        {
          "output_type": "execute_result",
          "data": {
            "text/plain": [
              "<tf.Tensor: shape=(2, 2), dtype=int32, numpy=\n",
              "array([[1, 2],\n",
              "       [3, 4]], dtype=int32)>"
            ]
          },
          "metadata": {
            "tags": []
          },
          "execution_count": 8
        }
      ]
    },
    {
      "cell_type": "code",
      "metadata": {
        "colab": {
          "base_uri": "https://localhost:8080/"
        },
        "id": "NaeFG8_-A0-J",
        "outputId": "593a5d0f-ae21-4026-9bbc-d28d716efa9b"
      },
      "source": [
        "# get the last item of each row\n",
        "rank2tensor[:, -1]"
      ],
      "execution_count": null,
      "outputs": [
        {
          "output_type": "execute_result",
          "data": {
            "text/plain": [
              "<tf.Tensor: shape=(2,), dtype=int32, numpy=array([2, 4], dtype=int32)>"
            ]
          },
          "metadata": {
            "tags": []
          },
          "execution_count": 9
        }
      ]
    },
    {
      "cell_type": "code",
      "metadata": {
        "colab": {
          "base_uri": "https://localhost:8080/"
        },
        "id": "-d5d2yAyBUlW",
        "outputId": "2113db9f-01d6-4bce-a454-ca5b65a9459d"
      },
      "source": [
        "# now add extra diemsion\n",
        "rank3tensor = rank2tensor[..., tf.newaxis]  # ... means all the previous axis [:, :, tf.newaxis]\n",
        "rank3tensor  # so we got new axis, rows =1"
      ],
      "execution_count": null,
      "outputs": [
        {
          "output_type": "execute_result",
          "data": {
            "text/plain": [
              "<tf.Tensor: shape=(2, 2, 1), dtype=int32, numpy=\n",
              "array([[[1],\n",
              "        [2]],\n",
              "\n",
              "       [[3],\n",
              "        [4]]], dtype=int32)>"
            ]
          },
          "metadata": {
            "tags": []
          },
          "execution_count": 10
        }
      ]
    },
    {
      "cell_type": "code",
      "metadata": {
        "colab": {
          "base_uri": "https://localhost:8080/"
        },
        "id": "oYYDXipFBvsE",
        "outputId": "41092f73-1810-4ca4-9695-8820734cdf1a"
      },
      "source": [
        "#another way\n",
        "tf.expand_dims(rank2tensor, axis = -1) # -1 expand the final axis  # only 1 column is output"
      ],
      "execution_count": null,
      "outputs": [
        {
          "output_type": "execute_result",
          "data": {
            "text/plain": [
              "<tf.Tensor: shape=(2, 2, 1), dtype=int32, numpy=\n",
              "array([[[1],\n",
              "        [2]],\n",
              "\n",
              "       [[3],\n",
              "        [4]]], dtype=int32)>"
            ]
          },
          "metadata": {
            "tags": []
          },
          "execution_count": 11
        }
      ]
    },
    {
      "cell_type": "code",
      "metadata": {
        "colab": {
          "base_uri": "https://localhost:8080/"
        },
        "id": "839ZOZoSD7yT",
        "outputId": "a9c3cd70-ad1c-46ab-d369-684154c9903f"
      },
      "source": [
        "tf.expand_dims(rank2tensor, axis = 0)"
      ],
      "execution_count": null,
      "outputs": [
        {
          "output_type": "execute_result",
          "data": {
            "text/plain": [
              "<tf.Tensor: shape=(1, 2, 2), dtype=int32, numpy=\n",
              "array([[[1, 2],\n",
              "        [3, 4]]], dtype=int32)>"
            ]
          },
          "metadata": {
            "tags": []
          },
          "execution_count": 12
        }
      ]
    },
    {
      "cell_type": "code",
      "metadata": {
        "colab": {
          "base_uri": "https://localhost:8080/"
        },
        "id": "1S4aHEI3ED6t",
        "outputId": "4ac591bc-cd34-4ade-faea-6470077f51d5"
      },
      "source": [
        "tf.expand_dims(rank2tensor, axis = 1)  # only 1 row in output"
      ],
      "execution_count": null,
      "outputs": [
        {
          "output_type": "execute_result",
          "data": {
            "text/plain": [
              "<tf.Tensor: shape=(2, 1, 2), dtype=int32, numpy=\n",
              "array([[[1, 2]],\n",
              "\n",
              "       [[3, 4]]], dtype=int32)>"
            ]
          },
          "metadata": {
            "tags": []
          },
          "execution_count": 13
        }
      ]
    },
    {
      "cell_type": "code",
      "metadata": {
        "colab": {
          "base_uri": "https://localhost:8080/"
        },
        "id": "HmtxQZsIEIev",
        "outputId": "26e348a8-946f-4540-d636-374135e5bb54"
      },
      "source": [
        "# tensor remains same\n",
        "rank2tensor"
      ],
      "execution_count": null,
      "outputs": [
        {
          "output_type": "execute_result",
          "data": {
            "text/plain": [
              "<tf.Tensor: shape=(2, 2), dtype=int32, numpy=\n",
              "array([[1, 2],\n",
              "       [3, 4]], dtype=int32)>"
            ]
          },
          "metadata": {
            "tags": []
          },
          "execution_count": 14
        }
      ]
    },
    {
      "cell_type": "markdown",
      "metadata": {
        "id": "XthCyq2_FriK"
      },
      "source": [
        "# Manipulating the Tensors"
      ]
    },
    {
      "cell_type": "code",
      "metadata": {
        "colab": {
          "base_uri": "https://localhost:8080/"
        },
        "id": "LzCoq2PfFxoh",
        "outputId": "5c9c84be-eb61-4905-f27e-18844f31491d"
      },
      "source": [
        "# Basic Operations, like add, substract.... python operations\n",
        "\n",
        "tensor = tf.constant([[1, 2],\n",
        "                      [3, 4]])\n",
        "tensor + 10"
      ],
      "execution_count": null,
      "outputs": [
        {
          "output_type": "execute_result",
          "data": {
            "text/plain": [
              "<tf.Tensor: shape=(2, 2), dtype=int32, numpy=\n",
              "array([[11, 12],\n",
              "       [13, 14]], dtype=int32)>"
            ]
          },
          "metadata": {
            "tags": []
          },
          "execution_count": 15
        }
      ]
    },
    {
      "cell_type": "code",
      "metadata": {
        "colab": {
          "base_uri": "https://localhost:8080/"
        },
        "id": "ncMgHhqAGIQC",
        "outputId": "2f88dd8d-c3c6-4139-d1cb-473bb35f45bb"
      },
      "source": [
        "# but original tensor remains unchanged\n",
        "tensor"
      ],
      "execution_count": null,
      "outputs": [
        {
          "output_type": "execute_result",
          "data": {
            "text/plain": [
              "<tf.Tensor: shape=(2, 2), dtype=int32, numpy=\n",
              "array([[1, 2],\n",
              "       [3, 4]], dtype=int32)>"
            ]
          },
          "metadata": {
            "tags": []
          },
          "execution_count": 16
        }
      ]
    },
    {
      "cell_type": "code",
      "metadata": {
        "colab": {
          "base_uri": "https://localhost:8080/"
        },
        "id": "5JK5rYrqGU8f",
        "outputId": "cbe8144e-b4f2-4501-ac31-1b29a2aeb835"
      },
      "source": [
        "tensor = tensor + 10\n",
        "tensor"
      ],
      "execution_count": null,
      "outputs": [
        {
          "output_type": "execute_result",
          "data": {
            "text/plain": [
              "<tf.Tensor: shape=(2, 2), dtype=int32, numpy=\n",
              "array([[11, 12],\n",
              "       [13, 14]], dtype=int32)>"
            ]
          },
          "metadata": {
            "tags": []
          },
          "execution_count": 17
        }
      ]
    },
    {
      "cell_type": "code",
      "metadata": {
        "colab": {
          "base_uri": "https://localhost:8080/"
        },
        "id": "bVLa5YwjGhnb",
        "outputId": "de3209f9-6246-47f5-8e0b-9073564dd358"
      },
      "source": [
        "# multiplication\n",
        "tensor * 10"
      ],
      "execution_count": null,
      "outputs": [
        {
          "output_type": "execute_result",
          "data": {
            "text/plain": [
              "<tf.Tensor: shape=(2, 2), dtype=int32, numpy=\n",
              "array([[110, 120],\n",
              "       [130, 140]], dtype=int32)>"
            ]
          },
          "metadata": {
            "tags": []
          },
          "execution_count": 18
        }
      ]
    },
    {
      "cell_type": "code",
      "metadata": {
        "colab": {
          "base_uri": "https://localhost:8080/"
        },
        "id": "RszpcBaqGpim",
        "outputId": "8481c0e7-e853-4554-9c92-e01b85b6b489"
      },
      "source": [
        "tensor - 10"
      ],
      "execution_count": null,
      "outputs": [
        {
          "output_type": "execute_result",
          "data": {
            "text/plain": [
              "<tf.Tensor: shape=(2, 2), dtype=int32, numpy=\n",
              "array([[1, 2],\n",
              "       [3, 4]], dtype=int32)>"
            ]
          },
          "metadata": {
            "tags": []
          },
          "execution_count": 19
        }
      ]
    },
    {
      "cell_type": "code",
      "metadata": {
        "colab": {
          "base_uri": "https://localhost:8080/"
        },
        "id": "Z5el_H1KGsXb",
        "outputId": "c7cda237-815d-4877-9d09-943ce61bfee9"
      },
      "source": [
        "# Alternative we can use tf library functions\n",
        "tf.multiply(tensor , 10)"
      ],
      "execution_count": null,
      "outputs": [
        {
          "output_type": "execute_result",
          "data": {
            "text/plain": [
              "<tf.Tensor: shape=(2, 2), dtype=int32, numpy=\n",
              "array([[110, 120],\n",
              "       [130, 140]], dtype=int32)>"
            ]
          },
          "metadata": {
            "tags": []
          },
          "execution_count": 20
        }
      ]
    },
    {
      "cell_type": "code",
      "metadata": {
        "colab": {
          "base_uri": "https://localhost:8080/"
        },
        "id": "euzojJ1oG6Tv",
        "outputId": "9bcc8025-0419-4d9c-9bfc-f0b58778fea7"
      },
      "source": [
        "tensor"
      ],
      "execution_count": null,
      "outputs": [
        {
          "output_type": "execute_result",
          "data": {
            "text/plain": [
              "<tf.Tensor: shape=(2, 2), dtype=int32, numpy=\n",
              "array([[11, 12],\n",
              "       [13, 14]], dtype=int32)>"
            ]
          },
          "metadata": {
            "tags": []
          },
          "execution_count": 21
        }
      ]
    },
    {
      "cell_type": "markdown",
      "metadata": {
        "id": "r20teD8THFtd"
      },
      "source": [
        "When we use tensor lib operations, it works fast on GPU"
      ]
    },
    {
      "cell_type": "code",
      "metadata": {
        "colab": {
          "base_uri": "https://localhost:8080/"
        },
        "id": "DSM9cYIdG7ox",
        "outputId": "ecd3a882-406d-47d6-8b2e-fe1073a191e4"
      },
      "source": [
        "tf.add(tensor, 10)"
      ],
      "execution_count": null,
      "outputs": [
        {
          "output_type": "execute_result",
          "data": {
            "text/plain": [
              "<tf.Tensor: shape=(2, 2), dtype=int32, numpy=\n",
              "array([[21, 22],\n",
              "       [23, 24]], dtype=int32)>"
            ]
          },
          "metadata": {
            "tags": []
          },
          "execution_count": 22
        }
      ]
    },
    {
      "cell_type": "code",
      "metadata": {
        "colab": {
          "base_uri": "https://localhost:8080/"
        },
        "id": "PDk7_vKJHdxa",
        "outputId": "3a24cfce-34fc-4212-eb5d-6699f99bde35"
      },
      "source": [
        "tf.math.add(tensor, 10)  #same"
      ],
      "execution_count": null,
      "outputs": [
        {
          "output_type": "execute_result",
          "data": {
            "text/plain": [
              "<tf.Tensor: shape=(2, 2), dtype=int32, numpy=\n",
              "array([[21, 22],\n",
              "       [23, 24]], dtype=int32)>"
            ]
          },
          "metadata": {
            "tags": []
          },
          "execution_count": 23
        }
      ]
    },
    {
      "cell_type": "markdown",
      "metadata": {
        "id": "Siute2HeHkAz"
      },
      "source": [
        "Matrix Multiplication"
      ]
    },
    {
      "cell_type": "code",
      "metadata": {
        "colab": {
          "base_uri": "https://localhost:8080/"
        },
        "id": "XvFoc8YFHgbt",
        "outputId": "bd3743fe-8dec-416a-fde5-2f39dd641f19"
      },
      "source": [
        "tf.matmul(tensor, tensor)"
      ],
      "execution_count": null,
      "outputs": [
        {
          "output_type": "execute_result",
          "data": {
            "text/plain": [
              "<tf.Tensor: shape=(2, 2), dtype=int32, numpy=\n",
              "array([[277, 300],\n",
              "       [325, 352]], dtype=int32)>"
            ]
          },
          "metadata": {
            "tags": []
          },
          "execution_count": 24
        }
      ]
    },
    {
      "cell_type": "code",
      "metadata": {
        "colab": {
          "base_uri": "https://localhost:8080/"
        },
        "id": "ZZ6cDAtDI3px",
        "outputId": "64034e67-1efe-4942-9f2e-a0c009183a91"
      },
      "source": [
        " tensor * tensor   # element wise"
      ],
      "execution_count": null,
      "outputs": [
        {
          "output_type": "execute_result",
          "data": {
            "text/plain": [
              "<tf.Tensor: shape=(2, 2), dtype=int32, numpy=\n",
              "array([[121, 144],\n",
              "       [169, 196]], dtype=int32)>"
            ]
          },
          "metadata": {
            "tags": []
          },
          "execution_count": 25
        }
      ]
    },
    {
      "cell_type": "code",
      "metadata": {
        "colab": {
          "base_uri": "https://localhost:8080/"
        },
        "id": "SV5E02hNJChS",
        "outputId": "a90609c2-677c-43d8-ce4b-27378a808381"
      },
      "source": [
        "tensor @ tensor # python matrix multiplication "
      ],
      "execution_count": null,
      "outputs": [
        {
          "output_type": "execute_result",
          "data": {
            "text/plain": [
              "<tf.Tensor: shape=(2, 2), dtype=int32, numpy=\n",
              "array([[277, 300],\n",
              "       [325, 352]], dtype=int32)>"
            ]
          },
          "metadata": {
            "tags": []
          },
          "execution_count": 26
        }
      ]
    },
    {
      "cell_type": "code",
      "metadata": {
        "colab": {
          "base_uri": "https://localhost:8080/"
        },
        "id": "09lxIOywJIuC",
        "outputId": "f0d470bd-3321-43fc-db85-03cf5d6815c9"
      },
      "source": [
        "a = tf.reshape( tensor, (1,4))\n",
        "a"
      ],
      "execution_count": null,
      "outputs": [
        {
          "output_type": "execute_result",
          "data": {
            "text/plain": [
              "<tf.Tensor: shape=(1, 4), dtype=int32, numpy=array([[11, 12, 13, 14]], dtype=int32)>"
            ]
          },
          "metadata": {
            "tags": []
          },
          "execution_count": 27
        }
      ]
    },
    {
      "cell_type": "code",
      "metadata": {
        "colab": {
          "base_uri": "https://localhost:8080/"
        },
        "id": "8_i3c-VQPRwV",
        "outputId": "c0d7aefd-1f00-4a78-c480-ec0cbad61943"
      },
      "source": [
        "X = tf.constant([[1,2],\n",
        "                 [3,4],\n",
        "                 [5,6]])\n",
        "Y = tf.constant([[7,8], [9, 10], [11, 12]])\n",
        "X, Y"
      ],
      "execution_count": null,
      "outputs": [
        {
          "output_type": "execute_result",
          "data": {
            "text/plain": [
              "(<tf.Tensor: shape=(3, 2), dtype=int32, numpy=\n",
              " array([[1, 2],\n",
              "        [3, 4],\n",
              "        [5, 6]], dtype=int32)>, <tf.Tensor: shape=(3, 2), dtype=int32, numpy=\n",
              " array([[ 7,  8],\n",
              "        [ 9, 10],\n",
              "        [11, 12]], dtype=int32)>)"
            ]
          },
          "metadata": {
            "tags": []
          },
          "execution_count": 28
        }
      ]
    },
    {
      "cell_type": "markdown",
      "metadata": {
        "id": "yVcH1mcwRz2Z"
      },
      "source": [
        "# Dot Product\n",
        "***either use tf.matmult or tf.tensordot***\n"
      ]
    },
    {
      "cell_type": "code",
      "metadata": {
        "colab": {
          "base_uri": "https://localhost:8080/"
        },
        "id": "p3mmwRrzRxcW",
        "outputId": "c1fd8e5d-b8ee-4d20-8749-6053f950b8d6"
      },
      "source": [
        "tf.tensordot(tf.transpose(X), Y, axes =1)\n"
      ],
      "execution_count": null,
      "outputs": [
        {
          "output_type": "execute_result",
          "data": {
            "text/plain": [
              "<tf.Tensor: shape=(2, 2), dtype=int32, numpy=\n",
              "array([[ 89,  98],\n",
              "       [116, 128]], dtype=int32)>"
            ]
          },
          "metadata": {
            "tags": []
          },
          "execution_count": 29
        }
      ]
    },
    {
      "cell_type": "code",
      "metadata": {
        "colab": {
          "base_uri": "https://localhost:8080/"
        },
        "id": "SOYahIsSSI3b",
        "outputId": "c765d395-953c-445a-ec54-929a891933aa"
      },
      "source": [
        "tf.matmul(tf.transpose(X), Y)"
      ],
      "execution_count": null,
      "outputs": [
        {
          "output_type": "execute_result",
          "data": {
            "text/plain": [
              "<tf.Tensor: shape=(2, 2), dtype=int32, numpy=\n",
              "array([[ 89,  98],\n",
              "       [116, 128]], dtype=int32)>"
            ]
          },
          "metadata": {
            "tags": []
          },
          "execution_count": 30
        }
      ]
    },
    {
      "cell_type": "code",
      "metadata": {
        "colab": {
          "base_uri": "https://localhost:8080/"
        },
        "id": "llSlEtAlSThZ",
        "outputId": "e6940f4a-f1f8-451e-d71c-db873fed6c84"
      },
      "source": [
        "tf.tensordot(tf.transpose(X), Y, axes =0)"
      ],
      "execution_count": null,
      "outputs": [
        {
          "output_type": "execute_result",
          "data": {
            "text/plain": [
              "<tf.Tensor: shape=(2, 3, 3, 2), dtype=int32, numpy=\n",
              "array([[[[ 7,  8],\n",
              "         [ 9, 10],\n",
              "         [11, 12]],\n",
              "\n",
              "        [[21, 24],\n",
              "         [27, 30],\n",
              "         [33, 36]],\n",
              "\n",
              "        [[35, 40],\n",
              "         [45, 50],\n",
              "         [55, 60]]],\n",
              "\n",
              "\n",
              "       [[[14, 16],\n",
              "         [18, 20],\n",
              "         [22, 24]],\n",
              "\n",
              "        [[28, 32],\n",
              "         [36, 40],\n",
              "         [44, 48]],\n",
              "\n",
              "        [[42, 48],\n",
              "         [54, 60],\n",
              "         [66, 72]]]], dtype=int32)>"
            ]
          },
          "metadata": {
            "tags": []
          },
          "execution_count": 31
        }
      ]
    },
    {
      "cell_type": "code",
      "metadata": {
        "colab": {
          "base_uri": "https://localhost:8080/"
        },
        "id": "pHf1F0-ISrob",
        "outputId": "500a3d19-21a5-4b2a-ec76-87eb6a9b4190"
      },
      "source": [
        "tf.tensordot(tf.transpose(X), Y, axes =0).shape"
      ],
      "execution_count": null,
      "outputs": [
        {
          "output_type": "execute_result",
          "data": {
            "text/plain": [
              "TensorShape([2, 3, 3, 2])"
            ]
          },
          "metadata": {
            "tags": []
          },
          "execution_count": 33
        }
      ]
    },
    {
      "cell_type": "markdown",
      "metadata": {
        "id": "E2cQM8kO7R3s"
      },
      "source": [
        ""
      ]
    },
    {
      "cell_type": "code",
      "metadata": {
        "colab": {
          "base_uri": "https://localhost:8080/"
        },
        "id": "PUKW538sSYma",
        "outputId": "333968e6-c914-4145-fbdf-e32767a8524c"
      },
      "source": [
        "tf.matmul(X, tf.transpose(Y))"
      ],
      "execution_count": null,
      "outputs": [
        {
          "output_type": "execute_result",
          "data": {
            "text/plain": [
              "<tf.Tensor: shape=(3, 3), dtype=int32, numpy=\n",
              "array([[ 23,  29,  35],\n",
              "       [ 53,  67,  81],\n",
              "       [ 83, 105, 127]], dtype=int32)>"
            ]
          },
          "metadata": {
            "tags": []
          },
          "execution_count": 32
        }
      ]
    },
    {
      "cell_type": "markdown",
      "metadata": {
        "id": "TTc6evp17UoD"
      },
      "source": [
        "# Changing the Tensor Data Type"
      ]
    },
    {
      "cell_type": "code",
      "metadata": {
        "id": "TsCAT-G5UhhJ",
        "colab": {
          "base_uri": "https://localhost:8080/"
        },
        "outputId": "d5da466c-98b9-4d38-b261-0a3b1e449373"
      },
      "source": [
        "import tensorflow as tf\n",
        "#create a tensor with default datatype\n",
        "B = tf.constant([1.2, 2.3])\n",
        "B"
      ],
      "execution_count": 5,
      "outputs": [
        {
          "output_type": "execute_result",
          "data": {
            "text/plain": [
              "<tf.Tensor: shape=(2,), dtype=float32, numpy=array([1.2, 2.3], dtype=float32)>"
            ]
          },
          "metadata": {
            "tags": []
          },
          "execution_count": 5
        }
      ]
    },
    {
      "cell_type": "code",
      "metadata": {
        "colab": {
          "base_uri": "https://localhost:8080/"
        },
        "id": "YceFJjFy7oxE",
        "outputId": "253bc9b0-995e-4237-e7a6-e8200c6f868e"
      },
      "source": [
        "C = tf.constant([7, 10])\n",
        "C"
      ],
      "execution_count": 6,
      "outputs": [
        {
          "output_type": "execute_result",
          "data": {
            "text/plain": [
              "<tf.Tensor: shape=(2,), dtype=int32, numpy=array([ 7, 10], dtype=int32)>"
            ]
          },
          "metadata": {
            "tags": []
          },
          "execution_count": 6
        }
      ]
    },
    {
      "cell_type": "code",
      "metadata": {
        "colab": {
          "base_uri": "https://localhost:8080/"
        },
        "id": "AUnbQptv7um0",
        "outputId": "a6c463ce-d1e7-4e62-99ae-61e96a13fb1e"
      },
      "source": [
        "#change float32 to float16\n",
        "D = tf.cast(B, dtype= tf.float16)\n",
        "D"
      ],
      "execution_count": 7,
      "outputs": [
        {
          "output_type": "execute_result",
          "data": {
            "text/plain": [
              "<tf.Tensor: shape=(2,), dtype=float16, numpy=array([1.2, 2.3], dtype=float16)>"
            ]
          },
          "metadata": {
            "tags": []
          },
          "execution_count": 7
        }
      ]
    },
    {
      "cell_type": "code",
      "metadata": {
        "colab": {
          "base_uri": "https://localhost:8080/"
        },
        "id": "a4kf0JoB8jfp",
        "outputId": "ddc9c270-884e-4248-cdc8-e0d37f63c9b0"
      },
      "source": [
        "E = tf.cast(C, dtype = tf.float32)\n",
        "E"
      ],
      "execution_count": 9,
      "outputs": [
        {
          "output_type": "execute_result",
          "data": {
            "text/plain": [
              "<tf.Tensor: shape=(2,), dtype=float32, numpy=array([ 7., 10.], dtype=float32)>"
            ]
          },
          "metadata": {
            "tags": []
          },
          "execution_count": 9
        }
      ]
    },
    {
      "cell_type": "markdown",
      "metadata": {
        "id": "ppgSxLv69Q3V"
      },
      "source": [
        "# Aggregating Tensors"
      ]
    },
    {
      "cell_type": "code",
      "metadata": {
        "id": "6CpRGtQm8p1Q"
      },
      "source": [
        ""
      ],
      "execution_count": null,
      "outputs": []
    }
  ]
}